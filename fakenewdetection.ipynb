{
 "cells": [
  {
   "cell_type": "code",
   "execution_count": 6,
   "id": "56ce4a0c-55d2-4c52-ba2f-306fc71d66e6",
   "metadata": {},
   "outputs": [],
   "source": [
    "import pandas as pd\n",
    "import numpy as np\n",
    "import matplotlib.pyplot as plt\n",
    "import seaborn as sns\n",
    "import re\n",
    "import nltk\n",
    "from nltk.tokenize import word_tokenize\n",
    "from nltk.corpus import stopwords\n",
    "from nltk.stem import PorterStemmer\n",
    "from sklearn.model_selection import train_test_split\n",
    "from sklearn.feature_extraction.text import TfidfVectorizer\n",
    "from sklearn.ensemble import RandomForestClassifier\n",
    "from sklearn.naive_bayes import MultinomialNB\n",
    "from sklearn.neighbors import KNeighborsClassifier\n",
    "from sklearn.tree import DecisionTreeClassifier\n",
    "from sklearn.svm import SVC\n",
    "from sklearn.model_selection import GridSearchCV\n",
    "import xgboost as xgb\n",
    "from sklearn.metrics import accuracy_score, classification_report, confusion_matrix\n",
    "import spacy\n",
    "from scipy.sparse import hstack, csr_matrix"
   ]
  },
  {
   "cell_type": "code",
   "execution_count": 10,
   "id": "cb777039-b863-42eb-a8a1-b91ca09a6eed",
   "metadata": {},
   "outputs": [],
   "source": [
    "# !python -m spacy download en_core_web_sm\n",
    "nlp = spacy.load(\"en_core_web_sm\")"
   ]
  },
  {
   "cell_type": "code",
   "execution_count": 12,
   "id": "669fe1fc-897f-45da-bc84-53754ab8e17b",
   "metadata": {},
   "outputs": [],
   "source": [
    "df = pd.read_csv(\"LiarDataset.csv\")"
   ]
  },
  {
   "cell_type": "code",
   "execution_count": 14,
   "id": "9d98824b-edad-4f73-a324-9c891c8e6a04",
   "metadata": {},
   "outputs": [
    {
     "data": {
      "text/plain": [
       "(10240, 15)"
      ]
     },
     "execution_count": 14,
     "metadata": {},
     "output_type": "execute_result"
    }
   ],
   "source": [
    "df.shape"
   ]
  },
  {
   "cell_type": "code",
   "execution_count": 16,
   "id": "d817f494-2b02-4d4b-be83-7da0fbf61326",
   "metadata": {},
   "outputs": [
    {
     "data": {
      "text/html": [
       "<div>\n",
       "<style scoped>\n",
       "    .dataframe tbody tr th:only-of-type {\n",
       "        vertical-align: middle;\n",
       "    }\n",
       "\n",
       "    .dataframe tbody tr th {\n",
       "        vertical-align: top;\n",
       "    }\n",
       "\n",
       "    .dataframe thead th {\n",
       "        text-align: right;\n",
       "    }\n",
       "</style>\n",
       "<table border=\"1\" class=\"dataframe\">\n",
       "  <thead>\n",
       "    <tr style=\"text-align: right;\">\n",
       "      <th></th>\n",
       "      <th>id</th>\n",
       "      <th>label</th>\n",
       "      <th>statement</th>\n",
       "      <th>subject</th>\n",
       "      <th>speaker</th>\n",
       "      <th>speakers_job</th>\n",
       "      <th>state_info</th>\n",
       "      <th>party_aff</th>\n",
       "      <th>bt_cnt</th>\n",
       "      <th>f_cnt</th>\n",
       "      <th>ht_cnt</th>\n",
       "      <th>mt_cnt</th>\n",
       "      <th>pf_cnt</th>\n",
       "      <th>context</th>\n",
       "      <th>justification</th>\n",
       "    </tr>\n",
       "  </thead>\n",
       "  <tbody>\n",
       "    <tr>\n",
       "      <th>0</th>\n",
       "      <td>2635.json</td>\n",
       "      <td>false</td>\n",
       "      <td>Says the Annies List political group supports ...</td>\n",
       "      <td>abortion</td>\n",
       "      <td>dwayne-bohac</td>\n",
       "      <td>State representative</td>\n",
       "      <td>Texas</td>\n",
       "      <td>republican</td>\n",
       "      <td>0.0</td>\n",
       "      <td>1.0</td>\n",
       "      <td>0.0</td>\n",
       "      <td>0.0</td>\n",
       "      <td>0.0</td>\n",
       "      <td>a mailer</td>\n",
       "      <td>That's a premise that he fails to back up. Ann...</td>\n",
       "    </tr>\n",
       "    <tr>\n",
       "      <th>1</th>\n",
       "      <td>10540.json</td>\n",
       "      <td>half-true</td>\n",
       "      <td>When did the decline of coal start? It started...</td>\n",
       "      <td>energy,history,job-accomplishments</td>\n",
       "      <td>scott-surovell</td>\n",
       "      <td>State delegate</td>\n",
       "      <td>Virginia</td>\n",
       "      <td>democrat</td>\n",
       "      <td>0.0</td>\n",
       "      <td>0.0</td>\n",
       "      <td>1.0</td>\n",
       "      <td>1.0</td>\n",
       "      <td>0.0</td>\n",
       "      <td>a floor speech.</td>\n",
       "      <td>Surovell said the decline of coal \"started whe...</td>\n",
       "    </tr>\n",
       "    <tr>\n",
       "      <th>2</th>\n",
       "      <td>324.json</td>\n",
       "      <td>mostly-true</td>\n",
       "      <td>Hillary Clinton agrees with John McCain \"by vo...</td>\n",
       "      <td>foreign-policy</td>\n",
       "      <td>barack-obama</td>\n",
       "      <td>President</td>\n",
       "      <td>Illinois</td>\n",
       "      <td>democrat</td>\n",
       "      <td>70.0</td>\n",
       "      <td>71.0</td>\n",
       "      <td>160.0</td>\n",
       "      <td>163.0</td>\n",
       "      <td>9.0</td>\n",
       "      <td>Denver</td>\n",
       "      <td>Obama said he would have voted against the ame...</td>\n",
       "    </tr>\n",
       "    <tr>\n",
       "      <th>3</th>\n",
       "      <td>1123.json</td>\n",
       "      <td>false</td>\n",
       "      <td>Health care reform legislation is likely to ma...</td>\n",
       "      <td>health-care</td>\n",
       "      <td>blog-posting</td>\n",
       "      <td>NaN</td>\n",
       "      <td>NaN</td>\n",
       "      <td>none</td>\n",
       "      <td>7.0</td>\n",
       "      <td>19.0</td>\n",
       "      <td>3.0</td>\n",
       "      <td>5.0</td>\n",
       "      <td>44.0</td>\n",
       "      <td>a news release</td>\n",
       "      <td>The release may have a point that Mikulskis co...</td>\n",
       "    </tr>\n",
       "    <tr>\n",
       "      <th>4</th>\n",
       "      <td>9028.json</td>\n",
       "      <td>half-true</td>\n",
       "      <td>The economic turnaround started at the end of ...</td>\n",
       "      <td>economy,jobs</td>\n",
       "      <td>charlie-crist</td>\n",
       "      <td>NaN</td>\n",
       "      <td>Florida</td>\n",
       "      <td>democrat</td>\n",
       "      <td>15.0</td>\n",
       "      <td>9.0</td>\n",
       "      <td>20.0</td>\n",
       "      <td>19.0</td>\n",
       "      <td>2.0</td>\n",
       "      <td>an interview on CNN</td>\n",
       "      <td>Crist said that the economic \"turnaround start...</td>\n",
       "    </tr>\n",
       "    <tr>\n",
       "      <th>5</th>\n",
       "      <td>12465.json</td>\n",
       "      <td>true</td>\n",
       "      <td>The Chicago Bears have had more starting quart...</td>\n",
       "      <td>education</td>\n",
       "      <td>robin-vos</td>\n",
       "      <td>Wisconsin Assembly speaker</td>\n",
       "      <td>Wisconsin</td>\n",
       "      <td>republican</td>\n",
       "      <td>0.0</td>\n",
       "      <td>3.0</td>\n",
       "      <td>2.0</td>\n",
       "      <td>5.0</td>\n",
       "      <td>1.0</td>\n",
       "      <td>a an online opinion-piece</td>\n",
       "      <td>But Vos specifically used the word \"fired,\" wh...</td>\n",
       "    </tr>\n",
       "    <tr>\n",
       "      <th>6</th>\n",
       "      <td>2342.json</td>\n",
       "      <td>barely-true</td>\n",
       "      <td>Jim Dunnam has not lived in the district he re...</td>\n",
       "      <td>candidates-biography</td>\n",
       "      <td>republican-party-texas</td>\n",
       "      <td>NaN</td>\n",
       "      <td>Texas</td>\n",
       "      <td>republican</td>\n",
       "      <td>3.0</td>\n",
       "      <td>1.0</td>\n",
       "      <td>1.0</td>\n",
       "      <td>3.0</td>\n",
       "      <td>1.0</td>\n",
       "      <td>a press release.</td>\n",
       "      <td>But determining that would take significant de...</td>\n",
       "    </tr>\n",
       "    <tr>\n",
       "      <th>7</th>\n",
       "      <td>153.json</td>\n",
       "      <td>half-true</td>\n",
       "      <td>I'm the only person on this stage who has work...</td>\n",
       "      <td>ethics</td>\n",
       "      <td>barack-obama</td>\n",
       "      <td>President</td>\n",
       "      <td>Illinois</td>\n",
       "      <td>democrat</td>\n",
       "      <td>70.0</td>\n",
       "      <td>71.0</td>\n",
       "      <td>160.0</td>\n",
       "      <td>163.0</td>\n",
       "      <td>9.0</td>\n",
       "      <td>a Democratic debate in Philadelphia, Pa.</td>\n",
       "      <td>However, it was not that bill, but another one...</td>\n",
       "    </tr>\n",
       "    <tr>\n",
       "      <th>8</th>\n",
       "      <td>5602.json</td>\n",
       "      <td>half-true</td>\n",
       "      <td>However, it took $19.5 million in Oregon Lotte...</td>\n",
       "      <td>jobs</td>\n",
       "      <td>oregon-lottery</td>\n",
       "      <td>NaN</td>\n",
       "      <td>NaN</td>\n",
       "      <td>organization</td>\n",
       "      <td>0.0</td>\n",
       "      <td>0.0</td>\n",
       "      <td>1.0</td>\n",
       "      <td>0.0</td>\n",
       "      <td>1.0</td>\n",
       "      <td>a website</td>\n",
       "      <td>But Johnson is correct that many other factors...</td>\n",
       "    </tr>\n",
       "    <tr>\n",
       "      <th>9</th>\n",
       "      <td>9741.json</td>\n",
       "      <td>mostly-true</td>\n",
       "      <td>Says GOP primary opponents Glenn Grothman and ...</td>\n",
       "      <td>energy,message-machine-2014,voting-record</td>\n",
       "      <td>duey-stroebel</td>\n",
       "      <td>State representative</td>\n",
       "      <td>Wisconsin</td>\n",
       "      <td>republican</td>\n",
       "      <td>0.0</td>\n",
       "      <td>0.0</td>\n",
       "      <td>0.0</td>\n",
       "      <td>1.0</td>\n",
       "      <td>0.0</td>\n",
       "      <td>an online video</td>\n",
       "      <td>Considering that the $532 million figure cover...</td>\n",
       "    </tr>\n",
       "  </tbody>\n",
       "</table>\n",
       "</div>"
      ],
      "text/plain": [
       "           id        label                                          statement  \\\n",
       "0   2635.json        false  Says the Annies List political group supports ...   \n",
       "1  10540.json    half-true  When did the decline of coal start? It started...   \n",
       "2    324.json  mostly-true  Hillary Clinton agrees with John McCain \"by vo...   \n",
       "3   1123.json        false  Health care reform legislation is likely to ma...   \n",
       "4   9028.json    half-true  The economic turnaround started at the end of ...   \n",
       "5  12465.json         true  The Chicago Bears have had more starting quart...   \n",
       "6   2342.json  barely-true  Jim Dunnam has not lived in the district he re...   \n",
       "7    153.json    half-true  I'm the only person on this stage who has work...   \n",
       "8   5602.json    half-true  However, it took $19.5 million in Oregon Lotte...   \n",
       "9   9741.json  mostly-true  Says GOP primary opponents Glenn Grothman and ...   \n",
       "\n",
       "                                     subject                 speaker  \\\n",
       "0                                   abortion            dwayne-bohac   \n",
       "1         energy,history,job-accomplishments          scott-surovell   \n",
       "2                             foreign-policy            barack-obama   \n",
       "3                                health-care            blog-posting   \n",
       "4                               economy,jobs           charlie-crist   \n",
       "5                                  education               robin-vos   \n",
       "6                       candidates-biography  republican-party-texas   \n",
       "7                                     ethics            barack-obama   \n",
       "8                                       jobs          oregon-lottery   \n",
       "9  energy,message-machine-2014,voting-record           duey-stroebel   \n",
       "\n",
       "                 speakers_job state_info     party_aff  bt_cnt  f_cnt  ht_cnt  \\\n",
       "0        State representative      Texas    republican     0.0    1.0     0.0   \n",
       "1              State delegate   Virginia      democrat     0.0    0.0     1.0   \n",
       "2                   President   Illinois      democrat    70.0   71.0   160.0   \n",
       "3                         NaN        NaN          none     7.0   19.0     3.0   \n",
       "4                         NaN    Florida      democrat    15.0    9.0    20.0   \n",
       "5  Wisconsin Assembly speaker  Wisconsin    republican     0.0    3.0     2.0   \n",
       "6                         NaN      Texas    republican     3.0    1.0     1.0   \n",
       "7                   President   Illinois      democrat    70.0   71.0   160.0   \n",
       "8                         NaN        NaN  organization     0.0    0.0     1.0   \n",
       "9        State representative  Wisconsin    republican     0.0    0.0     0.0   \n",
       "\n",
       "   mt_cnt  pf_cnt                                   context  \\\n",
       "0     0.0     0.0                                  a mailer   \n",
       "1     1.0     0.0                           a floor speech.   \n",
       "2   163.0     9.0                                    Denver   \n",
       "3     5.0    44.0                            a news release   \n",
       "4    19.0     2.0                       an interview on CNN   \n",
       "5     5.0     1.0                 a an online opinion-piece   \n",
       "6     3.0     1.0                          a press release.   \n",
       "7   163.0     9.0  a Democratic debate in Philadelphia, Pa.   \n",
       "8     0.0     1.0                                a website    \n",
       "9     1.0     0.0                           an online video   \n",
       "\n",
       "                                       justification  \n",
       "0  That's a premise that he fails to back up. Ann...  \n",
       "1  Surovell said the decline of coal \"started whe...  \n",
       "2  Obama said he would have voted against the ame...  \n",
       "3  The release may have a point that Mikulskis co...  \n",
       "4  Crist said that the economic \"turnaround start...  \n",
       "5  But Vos specifically used the word \"fired,\" wh...  \n",
       "6  But determining that would take significant de...  \n",
       "7  However, it was not that bill, but another one...  \n",
       "8  But Johnson is correct that many other factors...  \n",
       "9  Considering that the $532 million figure cover...  "
      ]
     },
     "execution_count": 16,
     "metadata": {},
     "output_type": "execute_result"
    }
   ],
   "source": [
    "df.head(10)"
   ]
  },
  {
   "cell_type": "code",
   "execution_count": 342,
   "id": "1d5dc0d3-7c1a-4e58-9d12-61c397c88bb5",
   "metadata": {},
   "outputs": [
    {
     "data": {
      "text/plain": [
       "id                  0\n",
       "label               0\n",
       "statement           0\n",
       "subject             2\n",
       "speaker             2\n",
       "speakers_job     2898\n",
       "state_info       2210\n",
       "party_aff           2\n",
       "bt_cnt              2\n",
       "f_cnt               2\n",
       "ht_cnt              2\n",
       "mt_cnt              2\n",
       "pf_cnt              2\n",
       "context           102\n",
       "justification      84\n",
       "dtype: int64"
      ]
     },
     "execution_count": 342,
     "metadata": {},
     "output_type": "execute_result"
    }
   ],
   "source": [
    "df.isnull().sum()"
   ]
  },
  {
   "cell_type": "code",
   "execution_count": 343,
   "id": "0251c958-3079-4cef-a073-864bd2bbbf87",
   "metadata": {},
   "outputs": [
    {
     "data": {
      "text/html": [
       "<div>\n",
       "<style scoped>\n",
       "    .dataframe tbody tr th:only-of-type {\n",
       "        vertical-align: middle;\n",
       "    }\n",
       "\n",
       "    .dataframe tbody tr th {\n",
       "        vertical-align: top;\n",
       "    }\n",
       "\n",
       "    .dataframe thead th {\n",
       "        text-align: right;\n",
       "    }\n",
       "</style>\n",
       "<table border=\"1\" class=\"dataframe\">\n",
       "  <thead>\n",
       "    <tr style=\"text-align: right;\">\n",
       "      <th></th>\n",
       "      <th>label</th>\n",
       "      <th>statement</th>\n",
       "      <th>barely-true_count</th>\n",
       "      <th>false_count</th>\n",
       "      <th>half-true_count</th>\n",
       "      <th>mostly-true_count</th>\n",
       "      <th>pants-fire_count</th>\n",
       "    </tr>\n",
       "  </thead>\n",
       "  <tbody>\n",
       "    <tr>\n",
       "      <th>0</th>\n",
       "      <td>false</td>\n",
       "      <td>Says the Annies List political group supports ...</td>\n",
       "      <td>0.0</td>\n",
       "      <td>1.0</td>\n",
       "      <td>0.0</td>\n",
       "      <td>0.0</td>\n",
       "      <td>0.0</td>\n",
       "    </tr>\n",
       "    <tr>\n",
       "      <th>1</th>\n",
       "      <td>half-true</td>\n",
       "      <td>When did the decline of coal start? It started...</td>\n",
       "      <td>0.0</td>\n",
       "      <td>0.0</td>\n",
       "      <td>1.0</td>\n",
       "      <td>1.0</td>\n",
       "      <td>0.0</td>\n",
       "    </tr>\n",
       "    <tr>\n",
       "      <th>2</th>\n",
       "      <td>mostly-true</td>\n",
       "      <td>Hillary Clinton agrees with John McCain \"by vo...</td>\n",
       "      <td>70.0</td>\n",
       "      <td>71.0</td>\n",
       "      <td>160.0</td>\n",
       "      <td>163.0</td>\n",
       "      <td>9.0</td>\n",
       "    </tr>\n",
       "    <tr>\n",
       "      <th>3</th>\n",
       "      <td>false</td>\n",
       "      <td>Health care reform legislation is likely to ma...</td>\n",
       "      <td>7.0</td>\n",
       "      <td>19.0</td>\n",
       "      <td>3.0</td>\n",
       "      <td>5.0</td>\n",
       "      <td>44.0</td>\n",
       "    </tr>\n",
       "    <tr>\n",
       "      <th>4</th>\n",
       "      <td>half-true</td>\n",
       "      <td>The economic turnaround started at the end of ...</td>\n",
       "      <td>15.0</td>\n",
       "      <td>9.0</td>\n",
       "      <td>20.0</td>\n",
       "      <td>19.0</td>\n",
       "      <td>2.0</td>\n",
       "    </tr>\n",
       "  </tbody>\n",
       "</table>\n",
       "</div>"
      ],
      "text/plain": [
       "         label                                          statement  \\\n",
       "0        false  Says the Annies List political group supports ...   \n",
       "1    half-true  When did the decline of coal start? It started...   \n",
       "2  mostly-true  Hillary Clinton agrees with John McCain \"by vo...   \n",
       "3        false  Health care reform legislation is likely to ma...   \n",
       "4    half-true  The economic turnaround started at the end of ...   \n",
       "\n",
       "   barely-true_count  false_count  half-true_count  mostly-true_count  \\\n",
       "0                0.0          1.0              0.0                0.0   \n",
       "1                0.0          0.0              1.0                1.0   \n",
       "2               70.0         71.0            160.0              163.0   \n",
       "3                7.0         19.0              3.0                5.0   \n",
       "4               15.0          9.0             20.0               19.0   \n",
       "\n",
       "   pants-fire_count  \n",
       "0               0.0  \n",
       "1               0.0  \n",
       "2               9.0  \n",
       "3              44.0  \n",
       "4               2.0  "
      ]
     },
     "execution_count": 343,
     "metadata": {},
     "output_type": "execute_result"
    }
   ],
   "source": [
    "df = df[['label', 'statement', 'bt_cnt', 'f_cnt', 'ht_cnt', 'mt_cnt', 'pf_cnt']]\n",
    "df.columns = ['label', 'statement', 'barely-true_count', 'false_count', 'half-true_count', 'mostly-true_count', 'pants-fire_count']\n",
    "df.head()"
   ]
  },
  {
   "cell_type": "code",
   "execution_count": 344,
   "id": "a1213ad2-7e34-499a-a452-c66f2f6ab8fb",
   "metadata": {},
   "outputs": [
    {
     "data": {
      "text/html": [
       "<div>\n",
       "<style scoped>\n",
       "    .dataframe tbody tr th:only-of-type {\n",
       "        vertical-align: middle;\n",
       "    }\n",
       "\n",
       "    .dataframe tbody tr th {\n",
       "        vertical-align: top;\n",
       "    }\n",
       "\n",
       "    .dataframe thead th {\n",
       "        text-align: right;\n",
       "    }\n",
       "</style>\n",
       "<table border=\"1\" class=\"dataframe\">\n",
       "  <thead>\n",
       "    <tr style=\"text-align: right;\">\n",
       "      <th></th>\n",
       "      <th>label</th>\n",
       "      <th>statement</th>\n",
       "      <th>barely-true_count</th>\n",
       "      <th>false_count</th>\n",
       "      <th>half-true_count</th>\n",
       "      <th>mostly-true_count</th>\n",
       "      <th>pants-fire_count</th>\n",
       "    </tr>\n",
       "  </thead>\n",
       "  <tbody>\n",
       "    <tr>\n",
       "      <th>0</th>\n",
       "      <td>false</td>\n",
       "      <td>Says the Annies List political group supports ...</td>\n",
       "      <td>0.0</td>\n",
       "      <td>1.0</td>\n",
       "      <td>0.0</td>\n",
       "      <td>0.0</td>\n",
       "      <td>0.0</td>\n",
       "    </tr>\n",
       "    <tr>\n",
       "      <th>1</th>\n",
       "      <td>half-true</td>\n",
       "      <td>When did the decline of coal start? It started...</td>\n",
       "      <td>0.0</td>\n",
       "      <td>0.0</td>\n",
       "      <td>1.0</td>\n",
       "      <td>1.0</td>\n",
       "      <td>0.0</td>\n",
       "    </tr>\n",
       "    <tr>\n",
       "      <th>2</th>\n",
       "      <td>mostly-true</td>\n",
       "      <td>Hillary Clinton agrees with John McCain \"by vo...</td>\n",
       "      <td>70.0</td>\n",
       "      <td>71.0</td>\n",
       "      <td>160.0</td>\n",
       "      <td>163.0</td>\n",
       "      <td>9.0</td>\n",
       "    </tr>\n",
       "    <tr>\n",
       "      <th>3</th>\n",
       "      <td>false</td>\n",
       "      <td>Health care reform legislation is likely to ma...</td>\n",
       "      <td>7.0</td>\n",
       "      <td>19.0</td>\n",
       "      <td>3.0</td>\n",
       "      <td>5.0</td>\n",
       "      <td>44.0</td>\n",
       "    </tr>\n",
       "    <tr>\n",
       "      <th>4</th>\n",
       "      <td>half-true</td>\n",
       "      <td>The economic turnaround started at the end of ...</td>\n",
       "      <td>15.0</td>\n",
       "      <td>9.0</td>\n",
       "      <td>20.0</td>\n",
       "      <td>19.0</td>\n",
       "      <td>2.0</td>\n",
       "    </tr>\n",
       "    <tr>\n",
       "      <th>5</th>\n",
       "      <td>true</td>\n",
       "      <td>The Chicago Bears have had more starting quart...</td>\n",
       "      <td>0.0</td>\n",
       "      <td>3.0</td>\n",
       "      <td>2.0</td>\n",
       "      <td>5.0</td>\n",
       "      <td>1.0</td>\n",
       "    </tr>\n",
       "    <tr>\n",
       "      <th>6</th>\n",
       "      <td>barely-true</td>\n",
       "      <td>Jim Dunnam has not lived in the district he re...</td>\n",
       "      <td>3.0</td>\n",
       "      <td>1.0</td>\n",
       "      <td>1.0</td>\n",
       "      <td>3.0</td>\n",
       "      <td>1.0</td>\n",
       "    </tr>\n",
       "    <tr>\n",
       "      <th>7</th>\n",
       "      <td>half-true</td>\n",
       "      <td>I'm the only person on this stage who has work...</td>\n",
       "      <td>70.0</td>\n",
       "      <td>71.0</td>\n",
       "      <td>160.0</td>\n",
       "      <td>163.0</td>\n",
       "      <td>9.0</td>\n",
       "    </tr>\n",
       "    <tr>\n",
       "      <th>8</th>\n",
       "      <td>half-true</td>\n",
       "      <td>However, it took $19.5 million in Oregon Lotte...</td>\n",
       "      <td>0.0</td>\n",
       "      <td>0.0</td>\n",
       "      <td>1.0</td>\n",
       "      <td>0.0</td>\n",
       "      <td>1.0</td>\n",
       "    </tr>\n",
       "    <tr>\n",
       "      <th>9</th>\n",
       "      <td>mostly-true</td>\n",
       "      <td>Says GOP primary opponents Glenn Grothman and ...</td>\n",
       "      <td>0.0</td>\n",
       "      <td>0.0</td>\n",
       "      <td>0.0</td>\n",
       "      <td>1.0</td>\n",
       "      <td>0.0</td>\n",
       "    </tr>\n",
       "  </tbody>\n",
       "</table>\n",
       "</div>"
      ],
      "text/plain": [
       "         label                                          statement  \\\n",
       "0        false  Says the Annies List political group supports ...   \n",
       "1    half-true  When did the decline of coal start? It started...   \n",
       "2  mostly-true  Hillary Clinton agrees with John McCain \"by vo...   \n",
       "3        false  Health care reform legislation is likely to ma...   \n",
       "4    half-true  The economic turnaround started at the end of ...   \n",
       "5         true  The Chicago Bears have had more starting quart...   \n",
       "6  barely-true  Jim Dunnam has not lived in the district he re...   \n",
       "7    half-true  I'm the only person on this stage who has work...   \n",
       "8    half-true  However, it took $19.5 million in Oregon Lotte...   \n",
       "9  mostly-true  Says GOP primary opponents Glenn Grothman and ...   \n",
       "\n",
       "   barely-true_count  false_count  half-true_count  mostly-true_count  \\\n",
       "0                0.0          1.0              0.0                0.0   \n",
       "1                0.0          0.0              1.0                1.0   \n",
       "2               70.0         71.0            160.0              163.0   \n",
       "3                7.0         19.0              3.0                5.0   \n",
       "4               15.0          9.0             20.0               19.0   \n",
       "5                0.0          3.0              2.0                5.0   \n",
       "6                3.0          1.0              1.0                3.0   \n",
       "7               70.0         71.0            160.0              163.0   \n",
       "8                0.0          0.0              1.0                0.0   \n",
       "9                0.0          0.0              0.0                1.0   \n",
       "\n",
       "   pants-fire_count  \n",
       "0               0.0  \n",
       "1               0.0  \n",
       "2               9.0  \n",
       "3              44.0  \n",
       "4               2.0  \n",
       "5               1.0  \n",
       "6               1.0  \n",
       "7               9.0  \n",
       "8               1.0  \n",
       "9               0.0  "
      ]
     },
     "execution_count": 344,
     "metadata": {},
     "output_type": "execute_result"
    }
   ],
   "source": [
    "df = df.dropna(subset=['label', 'statement', 'barely-true_count', 'false_count', 'half-true_count', 'mostly-true_count', 'pants-fire_count'])\n",
    "df.head(10)"
   ]
  },
  {
   "cell_type": "code",
   "execution_count": 345,
   "id": "fb72f032-0102-4084-a350-695e24e9e074",
   "metadata": {},
   "outputs": [
    {
     "data": {
      "text/plain": [
       "label                0\n",
       "statement            0\n",
       "barely-true_count    0\n",
       "false_count          0\n",
       "half-true_count      0\n",
       "mostly-true_count    0\n",
       "pants-fire_count     0\n",
       "dtype: int64"
      ]
     },
     "execution_count": 345,
     "metadata": {},
     "output_type": "execute_result"
    }
   ],
   "source": [
    "df.isnull().sum()"
   ]
  },
  {
   "cell_type": "code",
   "execution_count": 346,
   "id": "8f183da3-ffb1-4830-973b-8e156610504e",
   "metadata": {},
   "outputs": [
    {
     "name": "stdout",
     "output_type": "stream",
     "text": [
      "['false' 'half-true' 'mostly-true' 'true' 'barely-true' 'pants-fire']\n"
     ]
    }
   ],
   "source": [
    "print(df['label'].unique())"
   ]
  },
  {
   "cell_type": "code",
   "execution_count": 347,
   "id": "1db2a166-dfcc-46df-9734-8c1c73e87d80",
   "metadata": {},
   "outputs": [
    {
     "data": {
      "text/html": [
       "<div>\n",
       "<style scoped>\n",
       "    .dataframe tbody tr th:only-of-type {\n",
       "        vertical-align: middle;\n",
       "    }\n",
       "\n",
       "    .dataframe tbody tr th {\n",
       "        vertical-align: top;\n",
       "    }\n",
       "\n",
       "    .dataframe thead th {\n",
       "        text-align: right;\n",
       "    }\n",
       "</style>\n",
       "<table border=\"1\" class=\"dataframe\">\n",
       "  <thead>\n",
       "    <tr style=\"text-align: right;\">\n",
       "      <th></th>\n",
       "      <th>label</th>\n",
       "      <th>statement</th>\n",
       "      <th>barely-true_count</th>\n",
       "      <th>false_count</th>\n",
       "      <th>half-true_count</th>\n",
       "      <th>mostly-true_count</th>\n",
       "      <th>pants-fire_count</th>\n",
       "    </tr>\n",
       "  </thead>\n",
       "  <tbody>\n",
       "    <tr>\n",
       "      <th>0</th>\n",
       "      <td>0</td>\n",
       "      <td>Says the Annies List political group supports ...</td>\n",
       "      <td>0.0</td>\n",
       "      <td>1.0</td>\n",
       "      <td>0.0</td>\n",
       "      <td>0.0</td>\n",
       "      <td>0.0</td>\n",
       "    </tr>\n",
       "    <tr>\n",
       "      <th>1</th>\n",
       "      <td>1</td>\n",
       "      <td>When did the decline of coal start? It started...</td>\n",
       "      <td>0.0</td>\n",
       "      <td>0.0</td>\n",
       "      <td>1.0</td>\n",
       "      <td>1.0</td>\n",
       "      <td>0.0</td>\n",
       "    </tr>\n",
       "    <tr>\n",
       "      <th>2</th>\n",
       "      <td>1</td>\n",
       "      <td>Hillary Clinton agrees with John McCain \"by vo...</td>\n",
       "      <td>70.0</td>\n",
       "      <td>71.0</td>\n",
       "      <td>160.0</td>\n",
       "      <td>163.0</td>\n",
       "      <td>9.0</td>\n",
       "    </tr>\n",
       "    <tr>\n",
       "      <th>3</th>\n",
       "      <td>0</td>\n",
       "      <td>Health care reform legislation is likely to ma...</td>\n",
       "      <td>7.0</td>\n",
       "      <td>19.0</td>\n",
       "      <td>3.0</td>\n",
       "      <td>5.0</td>\n",
       "      <td>44.0</td>\n",
       "    </tr>\n",
       "    <tr>\n",
       "      <th>4</th>\n",
       "      <td>1</td>\n",
       "      <td>The economic turnaround started at the end of ...</td>\n",
       "      <td>15.0</td>\n",
       "      <td>9.0</td>\n",
       "      <td>20.0</td>\n",
       "      <td>19.0</td>\n",
       "      <td>2.0</td>\n",
       "    </tr>\n",
       "    <tr>\n",
       "      <th>5</th>\n",
       "      <td>1</td>\n",
       "      <td>The Chicago Bears have had more starting quart...</td>\n",
       "      <td>0.0</td>\n",
       "      <td>3.0</td>\n",
       "      <td>2.0</td>\n",
       "      <td>5.0</td>\n",
       "      <td>1.0</td>\n",
       "    </tr>\n",
       "    <tr>\n",
       "      <th>6</th>\n",
       "      <td>0</td>\n",
       "      <td>Jim Dunnam has not lived in the district he re...</td>\n",
       "      <td>3.0</td>\n",
       "      <td>1.0</td>\n",
       "      <td>1.0</td>\n",
       "      <td>3.0</td>\n",
       "      <td>1.0</td>\n",
       "    </tr>\n",
       "    <tr>\n",
       "      <th>7</th>\n",
       "      <td>1</td>\n",
       "      <td>I'm the only person on this stage who has work...</td>\n",
       "      <td>70.0</td>\n",
       "      <td>71.0</td>\n",
       "      <td>160.0</td>\n",
       "      <td>163.0</td>\n",
       "      <td>9.0</td>\n",
       "    </tr>\n",
       "    <tr>\n",
       "      <th>8</th>\n",
       "      <td>1</td>\n",
       "      <td>However, it took $19.5 million in Oregon Lotte...</td>\n",
       "      <td>0.0</td>\n",
       "      <td>0.0</td>\n",
       "      <td>1.0</td>\n",
       "      <td>0.0</td>\n",
       "      <td>1.0</td>\n",
       "    </tr>\n",
       "    <tr>\n",
       "      <th>9</th>\n",
       "      <td>1</td>\n",
       "      <td>Says GOP primary opponents Glenn Grothman and ...</td>\n",
       "      <td>0.0</td>\n",
       "      <td>0.0</td>\n",
       "      <td>0.0</td>\n",
       "      <td>1.0</td>\n",
       "      <td>0.0</td>\n",
       "    </tr>\n",
       "  </tbody>\n",
       "</table>\n",
       "</div>"
      ],
      "text/plain": [
       "   label                                          statement  \\\n",
       "0      0  Says the Annies List political group supports ...   \n",
       "1      1  When did the decline of coal start? It started...   \n",
       "2      1  Hillary Clinton agrees with John McCain \"by vo...   \n",
       "3      0  Health care reform legislation is likely to ma...   \n",
       "4      1  The economic turnaround started at the end of ...   \n",
       "5      1  The Chicago Bears have had more starting quart...   \n",
       "6      0  Jim Dunnam has not lived in the district he re...   \n",
       "7      1  I'm the only person on this stage who has work...   \n",
       "8      1  However, it took $19.5 million in Oregon Lotte...   \n",
       "9      1  Says GOP primary opponents Glenn Grothman and ...   \n",
       "\n",
       "   barely-true_count  false_count  half-true_count  mostly-true_count  \\\n",
       "0                0.0          1.0              0.0                0.0   \n",
       "1                0.0          0.0              1.0                1.0   \n",
       "2               70.0         71.0            160.0              163.0   \n",
       "3                7.0         19.0              3.0                5.0   \n",
       "4               15.0          9.0             20.0               19.0   \n",
       "5                0.0          3.0              2.0                5.0   \n",
       "6                3.0          1.0              1.0                3.0   \n",
       "7               70.0         71.0            160.0              163.0   \n",
       "8                0.0          0.0              1.0                0.0   \n",
       "9                0.0          0.0              0.0                1.0   \n",
       "\n",
       "   pants-fire_count  \n",
       "0               0.0  \n",
       "1               0.0  \n",
       "2               9.0  \n",
       "3              44.0  \n",
       "4               2.0  \n",
       "5               1.0  \n",
       "6               1.0  \n",
       "7               9.0  \n",
       "8               1.0  \n",
       "9               0.0  "
      ]
     },
     "execution_count": 347,
     "metadata": {},
     "output_type": "execute_result"
    }
   ],
   "source": [
    "df['label'] = df['label'].map({\n",
    "    'true': 1,  \n",
    "    'false': 0,  \n",
    "    'barely-true': 0,  \n",
    "    'half-true': 1,  \n",
    "    'mostly-true': 1,  \n",
    "    'pants-fire': 0  \n",
    "})\n",
    "\n",
    "df.head(10)"
   ]
  },
  {
   "cell_type": "code",
   "execution_count": 348,
   "id": "5151d448-8650-4c43-9009-a70f97d8dbdd",
   "metadata": {},
   "outputs": [],
   "source": [
    "correlation_matrix = df[['barely-true_count', 'false_count', 'half-true_count', 'mostly-true_count', 'pants-fire_count']].corr(method='pearson')\n"
   ]
  },
  {
   "cell_type": "code",
   "execution_count": 349,
   "id": "455d09d0-74e9-4661-9e0f-06b07cadbc1d",
   "metadata": {},
   "outputs": [
    {
     "data": {
      "image/png": "[encoded data removed]",
      "text/plain": [
       "<Figure size 800x600 with 2 Axes>"
      ]
     },
     "metadata": {},
     "output_type": "display_data"
    }
   ],
   "source": [
    "plt.figure(figsize=(8, 6))\n",
    "sns.heatmap(correlation_matrix, annot=True, cmap='coolwarm', fmt=\".2f\")\n",
    "plt.title(\"Correlation Heatmap of Label Counts\")\n",
    "plt.show()"
   ]
  },
  {
   "cell_type": "code",
   "execution_count": 350,
   "id": "9dce82e1-3352-49ce-9f54-068338006783",
   "metadata": {},
   "outputs": [
    {
     "data": {
      "image/png": "[encoded data removed]",
      "text/plain": [
       "<Figure size 640x480 with 1 Axes>"
      ]
     },
     "metadata": {},
     "output_type": "display_data"
    }
   ],
   "source": [
    "sns.boxplot(x='label', y='false_count', data=df)\n",
    "plt.title(\"False Count Distribution Across Labels\")\n",
    "plt.xlabel(\"Label (0 = Fake, 1 = True)\")\n",
    "plt.ylabel(\"False Count\")\n",
    "plt.show()"
   ]
  },
  {
   "cell_type": "code",
   "execution_count": 351,
   "id": "4e3c0455-d8c4-4397-ab0d-2c9432d7c758",
   "metadata": {},
   "outputs": [],
   "source": [
    "df['false_count'] = df['false_count'].clip(upper=30)"
   ]
  },
  {
   "cell_type": "code",
   "execution_count": 352,
   "id": "3488002a-8430-4ae2-b04f-fdef393815fa",
   "metadata": {},
   "outputs": [
    {
     "data": {
      "image/png": "[encoded data removed]",
      "text/plain": [
       "<Figure size 640x480 with 1 Axes>"
      ]
     },
     "metadata": {},
     "output_type": "display_data"
    }
   ],
   "source": [
    "sns.boxplot(x='label', y='mostly-true_count', data=df)\n",
    "plt.title(\"Mostly True Count Distribution Across Labels\")\n",
    "plt.xlabel(\"Label (0 = Fake, 1 = True)\")\n",
    "plt.ylabel(\"Mostly True Count\")\n",
    "plt.show()"
   ]
  },
  {
   "cell_type": "code",
   "execution_count": 353,
   "id": "4d0fa493-444b-45d4-8ec7-08b278d0c7fe",
   "metadata": {},
   "outputs": [],
   "source": [
    "df['mostly-true_count'] = df['mostly-true_count'].clip(upper=30)"
   ]
  },
  {
   "cell_type": "code",
   "execution_count": 354,
   "id": "b53f27b0-93e5-41c4-8937-dc293acf108f",
   "metadata": {},
   "outputs": [
    {
     "data": {
      "image/png": "[encoded data removed]",
      "text/plain": [
       "<Figure size 640x480 with 1 Axes>"
      ]
     },
     "metadata": {},
     "output_type": "display_data"
    }
   ],
   "source": [
    "sns.boxplot(x='label', y='pants-fire_count', data=df)\n",
    "plt.title(\"Pants Fire Count Distribution Across Labels\")\n",
    "plt.xlabel(\"Label (0 = Fake, 1 = True)\")\n",
    "plt.ylabel(\"Pants-fire Count\")\n",
    "plt.show()"
   ]
  },
  {
   "cell_type": "code",
   "execution_count": 355,
   "id": "04d6d201-0b56-4cc1-9b76-9f0dd6bc5568",
   "metadata": {},
   "outputs": [],
   "source": [
    "df['pants-fire_count'] = df['pants-fire_count'].clip(upper=10)"
   ]
  },
  {
   "cell_type": "code",
   "execution_count": 356,
   "id": "58df04cf-9768-4748-b0c1-81102c5b8af3",
   "metadata": {},
   "outputs": [
    {
     "name": "stdout",
     "output_type": "stream",
     "text": [
      "label\n",
      "1    5752\n",
      "0    4486\n",
      "Name: count, dtype: int64\n"
     ]
    },
    {
     "data": {
      "image/png": "[encoded data removed]",
      "text/plain": [
       "<Figure size 640x480 with 1 Axes>"
      ]
     },
     "metadata": {},
     "output_type": "display_data"
    }
   ],
   "source": [
    "sns.countplot(x=df['label'])\n",
    "print(df['label'].value_counts())"
   ]
  },
  {
   "cell_type": "code",
   "execution_count": 357,
   "id": "8b78f0ad-3eb4-4744-b5cb-f871ad7d910e",
   "metadata": {},
   "outputs": [],
   "source": [
    "def extract_lexical_features(text):\n",
    "    \"\"\"\n",
    "    Extracts lexical features from the text.\n",
    "    \"\"\"\n",
    "    words = word_tokenize(text)\n",
    "    avg_word_length = np.mean([len(word) for word in words]) if words else 0\n",
    "    num_characters = len(text)\n",
    "    num_sentences = len(list(nlp(text).sents))  # Count sentences\n",
    "    return pd.Series([len(words), len(set(words)), avg_word_length, num_characters])"
   ]
  },
  {
   "cell_type": "code",
   "execution_count": 358,
   "id": "a339b4e5-15b7-4b93-80ea-822df7303635",
   "metadata": {},
   "outputs": [
    {
     "data": {
      "text/html": [
       "<div>\n",
       "<style scoped>\n",
       "    .dataframe tbody tr th:only-of-type {\n",
       "        vertical-align: middle;\n",
       "    }\n",
       "\n",
       "    .dataframe tbody tr th {\n",
       "        vertical-align: top;\n",
       "    }\n",
       "\n",
       "    .dataframe thead th {\n",
       "        text-align: right;\n",
       "    }\n",
       "</style>\n",
       "<table border=\"1\" class=\"dataframe\">\n",
       "  <thead>\n",
       "    <tr style=\"text-align: right;\">\n",
       "      <th></th>\n",
       "      <th>label</th>\n",
       "      <th>statement</th>\n",
       "      <th>barely-true_count</th>\n",
       "      <th>false_count</th>\n",
       "      <th>half-true_count</th>\n",
       "      <th>mostly-true_count</th>\n",
       "      <th>pants-fire_count</th>\n",
       "      <th>word_count</th>\n",
       "      <th>unique_word_count</th>\n",
       "      <th>avg_word_length</th>\n",
       "      <th>char_count</th>\n",
       "    </tr>\n",
       "  </thead>\n",
       "  <tbody>\n",
       "    <tr>\n",
       "      <th>0</th>\n",
       "      <td>0</td>\n",
       "      <td>Says the Annies List political group supports ...</td>\n",
       "      <td>0.0</td>\n",
       "      <td>1.0</td>\n",
       "      <td>0.0</td>\n",
       "      <td>0.0</td>\n",
       "      <td>0.0</td>\n",
       "      <td>12.0</td>\n",
       "      <td>12.0</td>\n",
       "      <td>6.000000</td>\n",
       "      <td>82.0</td>\n",
       "    </tr>\n",
       "    <tr>\n",
       "      <th>1</th>\n",
       "      <td>1</td>\n",
       "      <td>When did the decline of coal start? It started...</td>\n",
       "      <td>0.0</td>\n",
       "      <td>0.0</td>\n",
       "      <td>1.0</td>\n",
       "      <td>1.0</td>\n",
       "      <td>0.0</td>\n",
       "      <td>28.0</td>\n",
       "      <td>27.0</td>\n",
       "      <td>4.214286</td>\n",
       "      <td>141.0</td>\n",
       "    </tr>\n",
       "    <tr>\n",
       "      <th>2</th>\n",
       "      <td>1</td>\n",
       "      <td>Hillary Clinton agrees with John McCain \"by vo...</td>\n",
       "      <td>70.0</td>\n",
       "      <td>30.0</td>\n",
       "      <td>160.0</td>\n",
       "      <td>30.0</td>\n",
       "      <td>9.0</td>\n",
       "      <td>22.0</td>\n",
       "      <td>21.0</td>\n",
       "      <td>4.045455</td>\n",
       "      <td>105.0</td>\n",
       "    </tr>\n",
       "    <tr>\n",
       "      <th>3</th>\n",
       "      <td>0</td>\n",
       "      <td>Health care reform legislation is likely to ma...</td>\n",
       "      <td>7.0</td>\n",
       "      <td>19.0</td>\n",
       "      <td>3.0</td>\n",
       "      <td>5.0</td>\n",
       "      <td>10.0</td>\n",
       "      <td>13.0</td>\n",
       "      <td>13.0</td>\n",
       "      <td>5.153846</td>\n",
       "      <td>78.0</td>\n",
       "    </tr>\n",
       "    <tr>\n",
       "      <th>4</th>\n",
       "      <td>1</td>\n",
       "      <td>The economic turnaround started at the end of ...</td>\n",
       "      <td>15.0</td>\n",
       "      <td>9.0</td>\n",
       "      <td>20.0</td>\n",
       "      <td>19.0</td>\n",
       "      <td>2.0</td>\n",
       "      <td>11.0</td>\n",
       "      <td>11.0</td>\n",
       "      <td>4.090909</td>\n",
       "      <td>54.0</td>\n",
       "    </tr>\n",
       "  </tbody>\n",
       "</table>\n",
       "</div>"
      ],
      "text/plain": [
       "   label                                          statement  \\\n",
       "0      0  Says the Annies List political group supports ...   \n",
       "1      1  When did the decline of coal start? It started...   \n",
       "2      1  Hillary Clinton agrees with John McCain \"by vo...   \n",
       "3      0  Health care reform legislation is likely to ma...   \n",
       "4      1  The economic turnaround started at the end of ...   \n",
       "\n",
       "   barely-true_count  false_count  half-true_count  mostly-true_count  \\\n",
       "0                0.0          1.0              0.0                0.0   \n",
       "1                0.0          0.0              1.0                1.0   \n",
       "2               70.0         30.0            160.0               30.0   \n",
       "3                7.0         19.0              3.0                5.0   \n",
       "4               15.0          9.0             20.0               19.0   \n",
       "\n",
       "   pants-fire_count  word_count  unique_word_count  avg_word_length  \\\n",
       "0               0.0        12.0               12.0         6.000000   \n",
       "1               0.0        28.0               27.0         4.214286   \n",
       "2               9.0        22.0               21.0         4.045455   \n",
       "3              10.0        13.0               13.0         5.153846   \n",
       "4               2.0        11.0               11.0         4.090909   \n",
       "\n",
       "   char_count  \n",
       "0        82.0  \n",
       "1       141.0  \n",
       "2       105.0  \n",
       "3        78.0  \n",
       "4        54.0  "
      ]
     },
     "execution_count": 358,
     "metadata": {},
     "output_type": "execute_result"
    }
   ],
   "source": [
    "df[['word_count', 'unique_word_count', 'avg_word_length', 'char_count']] = df['statement'].apply(extract_lexical_features)\n",
    "df.head()"
   ]
  },
  {
   "cell_type": "code",
   "execution_count": 359,
   "id": "2396271c-3149-4474-87d7-606af6246cc0",
   "metadata": {},
   "outputs": [],
   "source": [
    "def extract_pos_features(text):\n",
    "    doc = nlp(text)\n",
    "    nouns = sum(1 for token in doc if token.pos_ == \"NOUN\")\n",
    "    verbs = sum(1 for token in doc if token.pos_ == \"VERB\")\n",
    "    prepositions = sum(1 for token in doc if token.pos_ == \"ADP\")\n",
    "    sentences = len(list(doc.sents))\n",
    "    return pd.Series([nouns, verbs, prepositions, sentences])"
   ]
  },
  {
   "cell_type": "code",
   "execution_count": 360,
   "id": "47da1ee5-19a4-4067-a552-2536d4f5dd3f",
   "metadata": {},
   "outputs": [
    {
     "data": {
      "text/html": [
       "<div>\n",
       "<style scoped>\n",
       "    .dataframe tbody tr th:only-of-type {\n",
       "        vertical-align: middle;\n",
       "    }\n",
       "\n",
       "    .dataframe tbody tr th {\n",
       "        vertical-align: top;\n",
       "    }\n",
       "\n",
       "    .dataframe thead th {\n",
       "        text-align: right;\n",
       "    }\n",
       "</style>\n",
       "<table border=\"1\" class=\"dataframe\">\n",
       "  <thead>\n",
       "    <tr style=\"text-align: right;\">\n",
       "      <th></th>\n",
       "      <th>label</th>\n",
       "      <th>statement</th>\n",
       "      <th>barely-true_count</th>\n",
       "      <th>false_count</th>\n",
       "      <th>half-true_count</th>\n",
       "      <th>mostly-true_count</th>\n",
       "      <th>pants-fire_count</th>\n",
       "      <th>word_count</th>\n",
       "      <th>unique_word_count</th>\n",
       "      <th>avg_word_length</th>\n",
       "      <th>char_count</th>\n",
       "      <th>nouns</th>\n",
       "      <th>verbs</th>\n",
       "      <th>prepositions</th>\n",
       "      <th>sentences</th>\n",
       "    </tr>\n",
       "  </thead>\n",
       "  <tbody>\n",
       "    <tr>\n",
       "      <th>0</th>\n",
       "      <td>0</td>\n",
       "      <td>Says the Annies List political group supports ...</td>\n",
       "      <td>0.0</td>\n",
       "      <td>1.0</td>\n",
       "      <td>0.0</td>\n",
       "      <td>0.0</td>\n",
       "      <td>0.0</td>\n",
       "      <td>12.0</td>\n",
       "      <td>12.0</td>\n",
       "      <td>6.000000</td>\n",
       "      <td>82.0</td>\n",
       "      <td>4</td>\n",
       "      <td>2</td>\n",
       "      <td>1</td>\n",
       "      <td>1</td>\n",
       "    </tr>\n",
       "    <tr>\n",
       "      <th>1</th>\n",
       "      <td>1</td>\n",
       "      <td>When did the decline of coal start? It started...</td>\n",
       "      <td>0.0</td>\n",
       "      <td>0.0</td>\n",
       "      <td>1.0</td>\n",
       "      <td>1.0</td>\n",
       "      <td>0.0</td>\n",
       "      <td>28.0</td>\n",
       "      <td>27.0</td>\n",
       "      <td>4.214286</td>\n",
       "      <td>141.0</td>\n",
       "      <td>5</td>\n",
       "      <td>5</td>\n",
       "      <td>3</td>\n",
       "      <td>2</td>\n",
       "    </tr>\n",
       "    <tr>\n",
       "      <th>2</th>\n",
       "      <td>1</td>\n",
       "      <td>Hillary Clinton agrees with John McCain \"by vo...</td>\n",
       "      <td>70.0</td>\n",
       "      <td>30.0</td>\n",
       "      <td>160.0</td>\n",
       "      <td>30.0</td>\n",
       "      <td>9.0</td>\n",
       "      <td>22.0</td>\n",
       "      <td>21.0</td>\n",
       "      <td>4.045455</td>\n",
       "      <td>105.0</td>\n",
       "      <td>2</td>\n",
       "      <td>3</td>\n",
       "      <td>4</td>\n",
       "      <td>1</td>\n",
       "    </tr>\n",
       "    <tr>\n",
       "      <th>3</th>\n",
       "      <td>0</td>\n",
       "      <td>Health care reform legislation is likely to ma...</td>\n",
       "      <td>7.0</td>\n",
       "      <td>19.0</td>\n",
       "      <td>3.0</td>\n",
       "      <td>5.0</td>\n",
       "      <td>10.0</td>\n",
       "      <td>13.0</td>\n",
       "      <td>13.0</td>\n",
       "      <td>5.153846</td>\n",
       "      <td>78.0</td>\n",
       "      <td>7</td>\n",
       "      <td>1</td>\n",
       "      <td>0</td>\n",
       "      <td>1</td>\n",
       "    </tr>\n",
       "    <tr>\n",
       "      <th>4</th>\n",
       "      <td>1</td>\n",
       "      <td>The economic turnaround started at the end of ...</td>\n",
       "      <td>15.0</td>\n",
       "      <td>9.0</td>\n",
       "      <td>20.0</td>\n",
       "      <td>19.0</td>\n",
       "      <td>2.0</td>\n",
       "      <td>11.0</td>\n",
       "      <td>11.0</td>\n",
       "      <td>4.090909</td>\n",
       "      <td>54.0</td>\n",
       "      <td>3</td>\n",
       "      <td>1</td>\n",
       "      <td>2</td>\n",
       "      <td>1</td>\n",
       "    </tr>\n",
       "  </tbody>\n",
       "</table>\n",
       "</div>"
      ],
      "text/plain": [
       "   label                                          statement  \\\n",
       "0      0  Says the Annies List political group supports ...   \n",
       "1      1  When did the decline of coal start? It started...   \n",
       "2      1  Hillary Clinton agrees with John McCain \"by vo...   \n",
       "3      0  Health care reform legislation is likely to ma...   \n",
       "4      1  The economic turnaround started at the end of ...   \n",
       "\n",
       "   barely-true_count  false_count  half-true_count  mostly-true_count  \\\n",
       "0                0.0          1.0              0.0                0.0   \n",
       "1                0.0          0.0              1.0                1.0   \n",
       "2               70.0         30.0            160.0               30.0   \n",
       "3                7.0         19.0              3.0                5.0   \n",
       "4               15.0          9.0             20.0               19.0   \n",
       "\n",
       "   pants-fire_count  word_count  unique_word_count  avg_word_length  \\\n",
       "0               0.0        12.0               12.0         6.000000   \n",
       "1               0.0        28.0               27.0         4.214286   \n",
       "2               9.0        22.0               21.0         4.045455   \n",
       "3              10.0        13.0               13.0         5.153846   \n",
       "4               2.0        11.0               11.0         4.090909   \n",
       "\n",
       "   char_count  nouns  verbs  prepositions  sentences  \n",
       "0        82.0      4      2             1          1  \n",
       "1       141.0      5      5             3          2  \n",
       "2       105.0      2      3             4          1  \n",
       "3        78.0      7      1             0          1  \n",
       "4        54.0      3      1             2          1  "
      ]
     },
     "execution_count": 360,
     "metadata": {},
     "output_type": "execute_result"
    }
   ],
   "source": [
    "df[['nouns', 'verbs', 'prepositions', 'sentences']] = df['statement'].apply(extract_pos_features)\n",
    "df.head()"
   ]
  },
  {
   "cell_type": "code",
   "execution_count": 361,
   "id": "5a1af047-d791-4c19-9c0c-9e92eaf4d196",
   "metadata": {},
   "outputs": [],
   "source": [
    "from textblob import TextBlob\n",
    "\n",
    "def extract_sentiment_features(text):\n",
    "    blob = TextBlob(text)\n",
    "    polarity = blob.sentiment.polarity\n",
    "    subjectivity = blob.sentiment.subjectivity\n",
    "    return pd.Series([polarity, subjectivity])"
   ]
  },
  {
   "cell_type": "code",
   "execution_count": 362,
   "id": "012d6a2f-1d28-417b-8910-688ba2bc0156",
   "metadata": {},
   "outputs": [],
   "source": [
    "# df[['polarity', 'subjectivity']] = df['statement'].apply(extract_sentiment_features)\n",
    "# df.head()"
   ]
  },
  {
   "cell_type": "code",
   "execution_count": 363,
   "id": "a5e1c72d-d428-4465-abc0-e41bd5904dfe",
   "metadata": {},
   "outputs": [
    {
     "name": "stderr",
     "output_type": "stream",
     "text": [
      "[nltk_data] Downloading package stopwords to /Users/apple/nltk_data...\n",
      "[nltk_data]   Package stopwords is already up-to-date!\n",
      "[nltk_data] Downloading package punkt to /Users/apple/nltk_data...\n",
      "[nltk_data]   Package punkt is already up-to-date!\n"
     ]
    }
   ],
   "source": [
    "# Text Preprocessing\n",
    "nltk.download('stopwords')\n",
    "nltk.download('punkt')\n",
    "stemmer = PorterStemmer()\n",
    "stop_words = set(stopwords.words(\"english\"))"
   ]
  },
  {
   "cell_type": "code",
   "execution_count": 364,
   "id": "7a772b79-c262-4019-b295-d933c0d51592",
   "metadata": {},
   "outputs": [
    {
     "data": {
      "text/html": [
       "<div>\n",
       "<style scoped>\n",
       "    .dataframe tbody tr th:only-of-type {\n",
       "        vertical-align: middle;\n",
       "    }\n",
       "\n",
       "    .dataframe tbody tr th {\n",
       "        vertical-align: top;\n",
       "    }\n",
       "\n",
       "    .dataframe thead th {\n",
       "        text-align: right;\n",
       "    }\n",
       "</style>\n",
       "<table border=\"1\" class=\"dataframe\">\n",
       "  <thead>\n",
       "    <tr style=\"text-align: right;\">\n",
       "      <th></th>\n",
       "      <th>label</th>\n",
       "      <th>statement</th>\n",
       "      <th>barely-true_count</th>\n",
       "      <th>false_count</th>\n",
       "      <th>half-true_count</th>\n",
       "      <th>mostly-true_count</th>\n",
       "      <th>pants-fire_count</th>\n",
       "      <th>word_count</th>\n",
       "      <th>unique_word_count</th>\n",
       "      <th>avg_word_length</th>\n",
       "      <th>char_count</th>\n",
       "      <th>nouns</th>\n",
       "      <th>verbs</th>\n",
       "      <th>prepositions</th>\n",
       "      <th>sentences</th>\n",
       "    </tr>\n",
       "  </thead>\n",
       "  <tbody>\n",
       "    <tr>\n",
       "      <th>0</th>\n",
       "      <td>0</td>\n",
       "      <td>say anni list polit group support third trimes...</td>\n",
       "      <td>0.0</td>\n",
       "      <td>1.0</td>\n",
       "      <td>0.0</td>\n",
       "      <td>0.0</td>\n",
       "      <td>0.0</td>\n",
       "      <td>12.0</td>\n",
       "      <td>12.0</td>\n",
       "      <td>6.000000</td>\n",
       "      <td>82.0</td>\n",
       "      <td>4</td>\n",
       "      <td>2</td>\n",
       "      <td>1</td>\n",
       "      <td>1</td>\n",
       "    </tr>\n",
       "    <tr>\n",
       "      <th>1</th>\n",
       "      <td>1</td>\n",
       "      <td>declin coal start start natur ga took start be...</td>\n",
       "      <td>0.0</td>\n",
       "      <td>0.0</td>\n",
       "      <td>1.0</td>\n",
       "      <td>1.0</td>\n",
       "      <td>0.0</td>\n",
       "      <td>28.0</td>\n",
       "      <td>27.0</td>\n",
       "      <td>4.214286</td>\n",
       "      <td>141.0</td>\n",
       "      <td>5</td>\n",
       "      <td>5</td>\n",
       "      <td>3</td>\n",
       "      <td>2</td>\n",
       "    </tr>\n",
       "    <tr>\n",
       "      <th>2</th>\n",
       "      <td>1</td>\n",
       "      <td>hillari clinton agre john mccain vote give geo...</td>\n",
       "      <td>70.0</td>\n",
       "      <td>30.0</td>\n",
       "      <td>160.0</td>\n",
       "      <td>30.0</td>\n",
       "      <td>9.0</td>\n",
       "      <td>22.0</td>\n",
       "      <td>21.0</td>\n",
       "      <td>4.045455</td>\n",
       "      <td>105.0</td>\n",
       "      <td>2</td>\n",
       "      <td>3</td>\n",
       "      <td>4</td>\n",
       "      <td>1</td>\n",
       "    </tr>\n",
       "    <tr>\n",
       "      <th>3</th>\n",
       "      <td>0</td>\n",
       "      <td>health care reform legisl like mandat free sex...</td>\n",
       "      <td>7.0</td>\n",
       "      <td>19.0</td>\n",
       "      <td>3.0</td>\n",
       "      <td>5.0</td>\n",
       "      <td>10.0</td>\n",
       "      <td>13.0</td>\n",
       "      <td>13.0</td>\n",
       "      <td>5.153846</td>\n",
       "      <td>78.0</td>\n",
       "      <td>7</td>\n",
       "      <td>1</td>\n",
       "      <td>0</td>\n",
       "      <td>1</td>\n",
       "    </tr>\n",
       "    <tr>\n",
       "      <th>4</th>\n",
       "      <td>1</td>\n",
       "      <td>econom turnaround start end term</td>\n",
       "      <td>15.0</td>\n",
       "      <td>9.0</td>\n",
       "      <td>20.0</td>\n",
       "      <td>19.0</td>\n",
       "      <td>2.0</td>\n",
       "      <td>11.0</td>\n",
       "      <td>11.0</td>\n",
       "      <td>4.090909</td>\n",
       "      <td>54.0</td>\n",
       "      <td>3</td>\n",
       "      <td>1</td>\n",
       "      <td>2</td>\n",
       "      <td>1</td>\n",
       "    </tr>\n",
       "    <tr>\n",
       "      <th>5</th>\n",
       "      <td>1</td>\n",
       "      <td>chicago bear start quarterback last 10 year to...</td>\n",
       "      <td>0.0</td>\n",
       "      <td>3.0</td>\n",
       "      <td>2.0</td>\n",
       "      <td>5.0</td>\n",
       "      <td>1.0</td>\n",
       "      <td>30.0</td>\n",
       "      <td>27.0</td>\n",
       "      <td>4.300000</td>\n",
       "      <td>155.0</td>\n",
       "      <td>6</td>\n",
       "      <td>2</td>\n",
       "      <td>3</td>\n",
       "      <td>1</td>\n",
       "    </tr>\n",
       "    <tr>\n",
       "      <th>6</th>\n",
       "      <td>0</td>\n",
       "      <td>jim dunnam live district repres year</td>\n",
       "      <td>3.0</td>\n",
       "      <td>1.0</td>\n",
       "      <td>1.0</td>\n",
       "      <td>3.0</td>\n",
       "      <td>1.0</td>\n",
       "      <td>14.0</td>\n",
       "      <td>14.0</td>\n",
       "      <td>4.071429</td>\n",
       "      <td>69.0</td>\n",
       "      <td>2</td>\n",
       "      <td>2</td>\n",
       "      <td>2</td>\n",
       "      <td>1</td>\n",
       "    </tr>\n",
       "    <tr>\n",
       "      <th>7</th>\n",
       "      <td>1</td>\n",
       "      <td>person stage work activ last year pass along r...</td>\n",
       "      <td>70.0</td>\n",
       "      <td>30.0</td>\n",
       "      <td>160.0</td>\n",
       "      <td>30.0</td>\n",
       "      <td>9.0</td>\n",
       "      <td>31.0</td>\n",
       "      <td>29.0</td>\n",
       "      <td>4.290323</td>\n",
       "      <td>159.0</td>\n",
       "      <td>5</td>\n",
       "      <td>2</td>\n",
       "      <td>4</td>\n",
       "      <td>1</td>\n",
       "    </tr>\n",
       "    <tr>\n",
       "      <th>8</th>\n",
       "      <td>1</td>\n",
       "      <td>howev took 19 5 million oregon lotteri fund po...</td>\n",
       "      <td>0.0</td>\n",
       "      <td>0.0</td>\n",
       "      <td>1.0</td>\n",
       "      <td>0.0</td>\n",
       "      <td>1.0</td>\n",
       "      <td>26.0</td>\n",
       "      <td>25.0</td>\n",
       "      <td>4.692308</td>\n",
       "      <td>144.0</td>\n",
       "      <td>1</td>\n",
       "      <td>2</td>\n",
       "      <td>3</td>\n",
       "      <td>1</td>\n",
       "    </tr>\n",
       "    <tr>\n",
       "      <th>9</th>\n",
       "      <td>1</td>\n",
       "      <td>say gop primari oppon glenn grothman joe leibh...</td>\n",
       "      <td>0.0</td>\n",
       "      <td>0.0</td>\n",
       "      <td>0.0</td>\n",
       "      <td>1.0</td>\n",
       "      <td>0.0</td>\n",
       "      <td>23.0</td>\n",
       "      <td>23.0</td>\n",
       "      <td>4.869565</td>\n",
       "      <td>132.0</td>\n",
       "      <td>5</td>\n",
       "      <td>3</td>\n",
       "      <td>1</td>\n",
       "      <td>1</td>\n",
       "    </tr>\n",
       "  </tbody>\n",
       "</table>\n",
       "</div>"
      ],
      "text/plain": [
       "   label                                          statement  \\\n",
       "0      0  say anni list polit group support third trimes...   \n",
       "1      1  declin coal start start natur ga took start be...   \n",
       "2      1  hillari clinton agre john mccain vote give geo...   \n",
       "3      0  health care reform legisl like mandat free sex...   \n",
       "4      1                   econom turnaround start end term   \n",
       "5      1  chicago bear start quarterback last 10 year to...   \n",
       "6      0               jim dunnam live district repres year   \n",
       "7      1  person stage work activ last year pass along r...   \n",
       "8      1  howev took 19 5 million oregon lotteri fund po...   \n",
       "9      1  say gop primari oppon glenn grothman joe leibh...   \n",
       "\n",
       "   barely-true_count  false_count  half-true_count  mostly-true_count  \\\n",
       "0                0.0          1.0              0.0                0.0   \n",
       "1                0.0          0.0              1.0                1.0   \n",
       "2               70.0         30.0            160.0               30.0   \n",
       "3                7.0         19.0              3.0                5.0   \n",
       "4               15.0          9.0             20.0               19.0   \n",
       "5                0.0          3.0              2.0                5.0   \n",
       "6                3.0          1.0              1.0                3.0   \n",
       "7               70.0         30.0            160.0               30.0   \n",
       "8                0.0          0.0              1.0                0.0   \n",
       "9                0.0          0.0              0.0                1.0   \n",
       "\n",
       "   pants-fire_count  word_count  unique_word_count  avg_word_length  \\\n",
       "0               0.0        12.0               12.0         6.000000   \n",
       "1               0.0        28.0               27.0         4.214286   \n",
       "2               9.0        22.0               21.0         4.045455   \n",
       "3              10.0        13.0               13.0         5.153846   \n",
       "4               2.0        11.0               11.0         4.090909   \n",
       "5               1.0        30.0               27.0         4.300000   \n",
       "6               1.0        14.0               14.0         4.071429   \n",
       "7               9.0        31.0               29.0         4.290323   \n",
       "8               1.0        26.0               25.0         4.692308   \n",
       "9               0.0        23.0               23.0         4.869565   \n",
       "\n",
       "   char_count  nouns  verbs  prepositions  sentences  \n",
       "0        82.0      4      2             1          1  \n",
       "1       141.0      5      5             3          2  \n",
       "2       105.0      2      3             4          1  \n",
       "3        78.0      7      1             0          1  \n",
       "4        54.0      3      1             2          1  \n",
       "5       155.0      6      2             3          1  \n",
       "6        69.0      2      2             2          1  \n",
       "7       159.0      5      2             4          1  \n",
       "8       144.0      1      2             3          1  \n",
       "9       132.0      5      3             1          1  "
      ]
     },
     "execution_count": 364,
     "metadata": {},
     "output_type": "execute_result"
    }
   ],
   "source": [
    "def preprocess_text(text):\n",
    "    text = text.lower()\n",
    "    text = re.sub(r'\\W+', ' ', text)\n",
    "    tokens = word_tokenize(text)\n",
    "    tokens = [stemmer.stem(word) for word in tokens if word not in stop_words]\n",
    "    return ' '.join(tokens)\n",
    "\n",
    "df['statement'] = df['statement'].apply(preprocess_text)\n",
    "\n",
    "df.head(10)"
   ]
  },
  {
   "cell_type": "code",
   "execution_count": 365,
   "id": "9937b113-3987-4c55-a9de-83d3a9cf0189",
   "metadata": {},
   "outputs": [],
   "source": [
    "vectorizer = TfidfVectorizer(ngram_range=(1,2))  # Extract unigram and bigram features\n",
    "X_tfidf = vectorizer.fit_transform(df['statement'])"
   ]
  },
  {
   "cell_type": "code",
   "execution_count": 366,
   "id": "64d817b6-595f-45af-be2c-fbc9d2b7bc74",
   "metadata": {},
   "outputs": [
    {
     "data": {
      "text/plain": [
       "<10238x77576 sparse matrix of type '<class 'numpy.float64'>'\n",
       "\twith 211537 stored elements in Compressed Sparse Row format>"
      ]
     },
     "execution_count": 366,
     "metadata": {},
     "output_type": "execute_result"
    }
   ],
   "source": [
    "X_tfidf"
   ]
  },
  {
   "cell_type": "code",
   "execution_count": 367,
   "id": "e7be8750-89d4-49ef-b803-4330f3deb27c",
   "metadata": {},
   "outputs": [],
   "source": [
    "\n",
    "pos_features_sparse = csr_matrix(df[['barely-true_count', 'false_count', 'half-true_count', 'mostly-true_count', 'pants-fire_count', 'nouns', 'verbs', 'prepositions', 'sentences','word_count', 'unique_word_count', 'avg_word_length', 'char_count']].values)\n"
   ]
  },
  {
   "cell_type": "code",
   "execution_count": 368,
   "id": "8ba87991-39d5-47ba-8ec2-fc1d4f4aa398",
   "metadata": {},
   "outputs": [
    {
     "data": {
      "text/plain": [
       "<10238x13 sparse matrix of type '<class 'numpy.float64'>'\n",
       "\twith 115178 stored elements in Compressed Sparse Row format>"
      ]
     },
     "execution_count": 368,
     "metadata": {},
     "output_type": "execute_result"
    }
   ],
   "source": [
    "pos_features_sparse"
   ]
  },
  {
   "cell_type": "code",
   "execution_count": 369,
   "id": "36515ee6-94bf-48bc-be94-f6b301078fb9",
   "metadata": {},
   "outputs": [
    {
     "data": {
      "text/plain": [
       "<10238x77589 sparse matrix of type '<class 'numpy.float64'>'\n",
       "\twith 326715 stored elements in Compressed Sparse Row format>"
      ]
     },
     "execution_count": 369,
     "metadata": {},
     "output_type": "execute_result"
    }
   ],
   "source": [
    "X = hstack([X_tfidf, pos_features_sparse])\n",
    "X"
   ]
  },
  {
   "cell_type": "code",
   "execution_count": 370,
   "id": "99722228-598f-472d-bdd2-226400521b67",
   "metadata": {},
   "outputs": [
    {
     "data": {
      "text/plain": [
       "0        0\n",
       "1        1\n",
       "2        1\n",
       "3        0\n",
       "4        1\n",
       "        ..\n",
       "10235    1\n",
       "10236    1\n",
       "10237    1\n",
       "10238    0\n",
       "10239    0\n",
       "Name: label, Length: 10238, dtype: int64"
      ]
     },
     "execution_count": 370,
     "metadata": {},
     "output_type": "execute_result"
    }
   ],
   "source": [
    "Y = df[\"label\"]\n",
    "Y"
   ]
  },
  {
   "cell_type": "code",
   "execution_count": 371,
   "id": "0e61faa6-2aa1-480e-975d-f93bfd8a5078",
   "metadata": {},
   "outputs": [],
   "source": [
    "X_train, X_test, y_train, y_test = train_test_split(X, Y,test_size=0.30, random_state=42)"
   ]
  },
  {
   "cell_type": "code",
   "execution_count": 372,
   "id": "5b5c7c6a-2034-47ca-820d-faace3d9f27d",
   "metadata": {},
   "outputs": [
    {
     "data": {
      "text/plain": [
       "<7166x77589 sparse matrix of type '<class 'numpy.float64'>'\n",
       "\twith 228421 stored elements in Compressed Sparse Row format>"
      ]
     },
     "execution_count": 372,
     "metadata": {},
     "output_type": "execute_result"
    }
   ],
   "source": [
    "X_train"
   ]
  },
  {
   "cell_type": "code",
   "execution_count": 373,
   "id": "1fead344-e61c-4ca7-a0d1-0b9ce7c857f8",
   "metadata": {},
   "outputs": [
    {
     "data": {
      "text/plain": [
       "3483    1\n",
       "3616    1\n",
       "1443    1\n",
       "9109    0\n",
       "214     0\n",
       "       ..\n",
       "5735    1\n",
       "5192    1\n",
       "5391    1\n",
       "860     0\n",
       "7271    0\n",
       "Name: label, Length: 7166, dtype: int64"
      ]
     },
     "execution_count": 373,
     "metadata": {},
     "output_type": "execute_result"
    }
   ],
   "source": [
    "y_train"
   ]
  },
  {
   "cell_type": "code",
   "execution_count": 374,
   "id": "4b419d22-93d2-4c52-8c5b-fbc709e9cd09",
   "metadata": {},
   "outputs": [
    {
     "data": {
      "text/plain": [
       "5205    1\n",
       "7753    0\n",
       "4413    1\n",
       "7208    1\n",
       "4741    0\n",
       "       ..\n",
       "1533    1\n",
       "2987    0\n",
       "5624    1\n",
       "1332    0\n",
       "5509    0\n",
       "Name: label, Length: 3072, dtype: int64"
      ]
     },
     "execution_count": 374,
     "metadata": {},
     "output_type": "execute_result"
    }
   ],
   "source": [
    "y_test"
   ]
  },
  {
   "cell_type": "code",
   "execution_count": 375,
   "id": "1bdc1210-7674-4f9d-a30a-73c04bdda615",
   "metadata": {},
   "outputs": [],
   "source": [
    "def train_and_evaluate(model, X_train, X_test, y_train, y_test):\n",
    "    model.fit(X_train, y_train)\n",
    "    y_pred = model.predict(X_test)\n",
    "    print(\"Accuracy:\", accuracy_score(y_test, y_pred))\n",
    "    print(\"Classification Report:\\n\", classification_report(y_test, y_pred))\n",
    "    print(\"Confusion Matrix:\\n\")\n",
    "    cm = confusion_matrix(y_test, y_pred)\n",
    "\n",
    "    # Plot confusion matrix\n",
    "    plt.figure(figsize=(6, 5))\n",
    "    sns.heatmap(cm, annot=True, fmt='d', cmap='Blues', xticklabels=set(y_test), yticklabels=set(y_test))\n",
    "    plt.xlabel('Predicted')\n",
    "    plt.ylabel('Actual')\n",
    "    plt.title('Confusion Matrix')\n",
    "    plt.show()\n",
    "    print(\"---------------------------------------------------\")"
   ]
  },
  {
   "cell_type": "code",
   "execution_count": 376,
   "id": "ea87c321-39fa-41a3-90a0-bf768bcaba11",
   "metadata": {},
   "outputs": [
    {
     "name": "stdout",
     "output_type": "stream",
     "text": [
      "Accuracy: 0.7076822916666666\n",
      "Classification Report:\n",
      "               precision    recall  f1-score   support\n",
      "\n",
      "           0       0.71      0.53      0.60      1297\n",
      "           1       0.71      0.84      0.77      1775\n",
      "\n",
      "    accuracy                           0.71      3072\n",
      "   macro avg       0.71      0.68      0.69      3072\n",
      "weighted avg       0.71      0.71      0.70      3072\n",
      "\n",
      "Confusion Matrix:\n",
      "\n"
     ]
    },
    {
     "data": {
      "image/png": "[encoded data removed]",
      "text/plain": [
       "<Figure size 600x500 with 2 Axes>"
      ]
     },
     "metadata": {},
     "output_type": "display_data"
    },
    {
     "name": "stdout",
     "output_type": "stream",
     "text": [
      "---------------------------------------------------\n"
     ]
    }
   ],
   "source": [
    "rf_model = RandomForestClassifier()\n",
    "train_and_evaluate(rf_model, X_train, X_test, y_train, y_test)"
   ]
  },
  {
   "cell_type": "code",
   "execution_count": 377,
   "id": "ce86e23f-3c8b-46aa-901c-06a05d1ef088",
   "metadata": {},
   "outputs": [
    {
     "name": "stdout",
     "output_type": "stream",
     "text": [
      "Accuracy: 0.6139322916666666\n",
      "Classification Report:\n",
      "               precision    recall  f1-score   support\n",
      "\n",
      "           0       0.77      0.12      0.21      1297\n",
      "           1       0.60      0.97      0.74      1775\n",
      "\n",
      "    accuracy                           0.61      3072\n",
      "   macro avg       0.69      0.55      0.48      3072\n",
      "weighted avg       0.67      0.61      0.52      3072\n",
      "\n",
      "Confusion Matrix:\n",
      "\n"
     ]
    },
    {
     "data": {
      "image/png": "[encoded data removed]",
      "text/plain": [
       "<Figure size 600x500 with 2 Axes>"
      ]
     },
     "metadata": {},
     "output_type": "display_data"
    },
    {
     "name": "stdout",
     "output_type": "stream",
     "text": [
      "---------------------------------------------------\n"
     ]
    }
   ],
   "source": [
    "nb_model = MultinomialNB()\n",
    "train_and_evaluate(nb_model, X_train, X_test, y_train, y_test)"
   ]
  },
  {
   "cell_type": "code",
   "execution_count": 378,
   "id": "19267c20-4e4a-4256-9cf1-14a0f440c8aa",
   "metadata": {},
   "outputs": [
    {
     "name": "stdout",
     "output_type": "stream",
     "text": [
      "Accuracy: 0.6158854166666666\n",
      "Classification Report:\n",
      "               precision    recall  f1-score   support\n",
      "\n",
      "           0       0.55      0.51      0.53      1297\n",
      "           1       0.66      0.69      0.67      1775\n",
      "\n",
      "    accuracy                           0.62      3072\n",
      "   macro avg       0.60      0.60      0.60      3072\n",
      "weighted avg       0.61      0.62      0.61      3072\n",
      "\n",
      "Confusion Matrix:\n",
      "\n"
     ]
    },
    {
     "data": {
      "image/png": "[encoded data removed]",
      "text/plain": [
       "<Figure size 600x500 with 2 Axes>"
      ]
     },
     "metadata": {},
     "output_type": "display_data"
    },
    {
     "name": "stdout",
     "output_type": "stream",
     "text": [
      "---------------------------------------------------\n"
     ]
    }
   ],
   "source": [
    "knn_model = KNeighborsClassifier()\n",
    "train_and_evaluate(knn_model, X_train, X_test, y_train, y_test)"
   ]
  },
  {
   "cell_type": "code",
   "execution_count": 379,
   "id": "c05c87c3-0c43-47e9-b5f6-63f9f97fe1f1",
   "metadata": {},
   "outputs": [
    {
     "name": "stdout",
     "output_type": "stream",
     "text": [
      "Accuracy: 0.6917317708333334\n",
      "Classification Report:\n",
      "               precision    recall  f1-score   support\n",
      "\n",
      "           0       0.63      0.64      0.64      1297\n",
      "           1       0.74      0.73      0.73      1775\n",
      "\n",
      "    accuracy                           0.69      3072\n",
      "   macro avg       0.68      0.68      0.68      3072\n",
      "weighted avg       0.69      0.69      0.69      3072\n",
      "\n",
      "Confusion Matrix:\n",
      "\n"
     ]
    },
    {
     "data": {
      "image/png": "[encoded data removed]",
      "text/plain": [
       "<Figure size 600x500 with 2 Axes>"
      ]
     },
     "metadata": {},
     "output_type": "display_data"
    },
    {
     "name": "stdout",
     "output_type": "stream",
     "text": [
      "---------------------------------------------------\n"
     ]
    }
   ],
   "source": [
    "dt_model = DecisionTreeClassifier()\n",
    "train_and_evaluate(dt_model, X_train, X_test, y_train, y_test)"
   ]
  },
  {
   "cell_type": "code",
   "execution_count": 380,
   "id": "46abc9e3-a768-420f-a921-50fff75048f5",
   "metadata": {},
   "outputs": [
    {
     "name": "stdout",
     "output_type": "stream",
     "text": [
      "Accuracy: 0.6438802083333334\n",
      "Classification Report:\n",
      "               precision    recall  f1-score   support\n",
      "\n",
      "           0       0.60      0.49      0.54      1297\n",
      "           1       0.67      0.76      0.71      1775\n",
      "\n",
      "    accuracy                           0.64      3072\n",
      "   macro avg       0.63      0.62      0.62      3072\n",
      "weighted avg       0.64      0.64      0.64      3072\n",
      "\n",
      "Confusion Matrix:\n",
      "\n"
     ]
    },
    {
     "data": {
      "image/png": "[encoded data removed]",
      "text/plain": [
       "<Figure size 600x500 with 2 Axes>"
      ]
     },
     "metadata": {},
     "output_type": "display_data"
    },
    {
     "name": "stdout",
     "output_type": "stream",
     "text": [
      "---------------------------------------------------\n"
     ]
    }
   ],
   "source": [
    "svm_model = SVC(kernel=\"linear\")\n",
    "train_and_evaluate(svm_model, X_train, X_test, y_train, y_test)"
   ]
  },
  {
   "cell_type": "code",
   "execution_count": 381,
   "id": "f8bc62d8-5dbd-44e8-9dec-9eb9f2723ca1",
   "metadata": {},
   "outputs": [
    {
     "name": "stdout",
     "output_type": "stream",
     "text": [
      "Accuracy: 0.7333984375\n",
      "Classification Report:\n",
      "               precision    recall  f1-score   support\n",
      "\n",
      "           0       0.69      0.66      0.68      1297\n",
      "           1       0.76      0.79      0.77      1775\n",
      "\n",
      "    accuracy                           0.73      3072\n",
      "   macro avg       0.73      0.72      0.72      3072\n",
      "weighted avg       0.73      0.73      0.73      3072\n",
      "\n",
      "Confusion Matrix:\n",
      "\n"
     ]
    },
    {
     "data": {
      "image/png": "[encoded data removed]",
      "text/plain": [
       "<Figure size 600x500 with 2 Axes>"
      ]
     },
     "metadata": {},
     "output_type": "display_data"
    },
    {
     "name": "stdout",
     "output_type": "stream",
     "text": [
      "---------------------------------------------------\n"
     ]
    }
   ],
   "source": [
    "xgb_model = xgb.XGBClassifier()\n",
    "train_and_evaluate(xgb_model, X_train, X_test, y_train, y_test)"
   ]
  },
  {
   "cell_type": "code",
   "execution_count": 382,
   "id": "43e735b6-5801-4216-b097-5f288122063a",
   "metadata": {},
   "outputs": [],
   "source": [
    "from sklearn.model_selection import RandomizedSearchCV\n"
   ]
  },
  {
   "cell_type": "code",
   "execution_count": 383,
   "id": "be36a54f-576c-469c-aa80-273eb0fac95d",
   "metadata": {
    "scrolled": true
   },
   "outputs": [
    {
     "name": "stdout",
     "output_type": "stream",
     "text": [
      "--- Tuning SVC (Randomized Search) ---\n",
      "Fitting RandomizedSearchCV for SVC...\n",
      "Fitting 2 folds for each of 4 candidates, totalling 8 fits\n",
      "SVC fitting complete.\n",
      "\n",
      "Best SVC Parameters Found (Randomized Search):\n",
      "{'kernel': 'rbf', 'gamma': 'scale', 'C': 100}\n",
      "\n",
      "--- Evaluating Best SVC Model ---\n",
      "Accuracy: 0.6393229166666666\n",
      "Classification Report:\n",
      "               precision    recall  f1-score   support\n",
      "\n",
      "           0       0.63      0.36      0.45      1297\n",
      "           1       0.64      0.85      0.73      1775\n",
      "\n",
      "    accuracy                           0.64      3072\n",
      "   macro avg       0.64      0.60      0.59      3072\n",
      "weighted avg       0.64      0.64      0.61      3072\n",
      "\n",
      "Confusion Matrix:\n",
      "\n"
     ]
    },
    {
     "data": {
      "image/png": "[encoded data removed]",
      "text/plain": [
       "<Figure size 600x500 with 2 Axes>"
      ]
     },
     "metadata": {},
     "output_type": "display_data"
    },
    {
     "name": "stdout",
     "output_type": "stream",
     "text": [
      "---------------------------------------------------\n",
      "--- Tuning XGBoost (Randomized Search) ---\n",
      "Fitting RandomizedSearchCV for XGBoost...\n",
      "Fitting 2 folds for each of 4 candidates, totalling 8 fits\n",
      "XGBoost fitting complete.\n",
      "\n",
      "Best XGBoost Parameters Found (Randomized Search):\n",
      "{'subsample': 0.8, 'n_estimators': 100, 'max_depth': 3, 'learning_rate': 0.1, 'colsample_bytree': 0.8}\n",
      "\n",
      "--- Evaluating Best XGBoost Model ---\n",
      "Accuracy: 0.7386067708333334\n",
      "Classification Report:\n",
      "               precision    recall  f1-score   support\n",
      "\n",
      "           0       0.71      0.65      0.68      1297\n",
      "           1       0.76      0.80      0.78      1775\n",
      "\n",
      "    accuracy                           0.74      3072\n",
      "   macro avg       0.73      0.73      0.73      3072\n",
      "weighted avg       0.74      0.74      0.74      3072\n",
      "\n",
      "Confusion Matrix:\n",
      "\n"
     ]
    },
    {
     "data": {
      "image/png": "[encoded data removed]",
      "text/plain": [
       "<Figure size 600x500 with 2 Axes>"
      ]
     },
     "metadata": {},
     "output_type": "display_data"
    },
    {
     "name": "stdout",
     "output_type": "stream",
     "text": [
      "---------------------------------------------------\n"
     ]
    }
   ],
   "source": [
    "# --- Define Parameter Grids (keep these from before) ---\n",
    "\n",
    "# For SVC\n",
    "svc_param_grid = {\n",
    "    'C': [0.1, 1, 10, 100],\n",
    "    'gamma': ['scale'],\n",
    "    'kernel': ['rbf']\n",
    "}\n",
    "\n",
    "# For XGBoost\n",
    "xgb_param_grid = {\n",
    "    'n_estimators': [100, 200],\n",
    "    'learning_rate': [ 0.1],\n",
    "    'max_depth': [3, 5],\n",
    "    'subsample': [0.8],\n",
    "    'colsample_bytree': [0.8]\n",
    "}\n",
    "\n",
    "\n",
    "# --- Tuning and Evaluating SVC with RandomizedSearchCV ---\n",
    "\n",
    "print(\"--- Tuning SVC (Randomized Search) ---\")\n",
    "# Instantiate the base SVC model\n",
    "svc_base = SVC(probability=True) # probability=True can be useful but might slow down SVC slightly, remove if not needed\n",
    "\n",
    "# Instantiate RandomizedSearchCV\n",
    "# n_iter=15 means try 15 random parameter combinations\n",
    "# cv=2 means 2-fold cross-validation\n",
    "random_search_svc = RandomizedSearchCV(\n",
    "    estimator=svc_base,\n",
    "    param_distributions=svc_param_grid, # Use param_distributions\n",
    "    n_iter=4,          # <<< Number of parameter settings that are sampled\n",
    "    cv=2,               # <<< Reduced CV folds\n",
    "    scoring='accuracy',\n",
    "    n_jobs=-1,\n",
    "    verbose=2,\n",
    "    random_state=42     # <<< For reproducible results\n",
    ")\n",
    "\n",
    "# Fit RandomizedSearchCV to the training data\n",
    "# Ensure X_train, y_train are defined and contain your training data\n",
    "print(\"Fitting RandomizedSearchCV for SVC...\")\n",
    "random_search_svc.fit(X_train, y_train)\n",
    "print(\"SVC fitting complete.\")\n",
    "\n",
    "# Get the best model found\n",
    "best_svc = random_search_svc.best_estimator_\n",
    "\n",
    "# Print the best parameters found\n",
    "print(\"\\nBest SVC Parameters Found (Randomized Search):\")\n",
    "print(random_search_svc.best_params_)\n",
    "\n",
    "# Evaluate the *best* SVC model on the test set\n",
    "print(\"\\n--- Evaluating Best SVC Model ---\")\n",
    "# Ensure X_test, y_test are defined and contain your test data\n",
    "y_pred_svc = best_svc.predict(X_test)\n",
    "print(\"Accuracy:\", accuracy_score(y_test, y_pred_svc))\n",
    "print(\"Classification Report:\\n\", classification_report(y_test, y_pred_svc))\n",
    "print(\"Confusion Matrix:\\n\")\n",
    "cm = confusion_matrix(y_test, y_pred_svc)\n",
    "\n",
    "# Plot confusion matrix\n",
    "plt.figure(figsize=(6, 5))\n",
    "sns.heatmap(cm, annot=True, fmt='d', cmap='Blues', xticklabels=set(y_test), yticklabels=set(y_test))\n",
    "plt.xlabel('Predicted')\n",
    "plt.ylabel('Actual')\n",
    "plt.title('Confusion Matrix')\n",
    "plt.show()\n",
    "print(\"---------------------------------------------------\")\n",
    "\n",
    "\n",
    "# --- Tuning and Evaluating XGBoost with RandomizedSearchCV ---\n",
    "\n",
    "print(\"--- Tuning XGBoost (Randomized Search) ---\")\n",
    "# Instantiate the base XGBoost model\n",
    "xgb_base = xgb.XGBClassifier(eval_metric='mlogloss' if len(np.unique(y_train)) > 2 else 'logloss')\n",
    "\n",
    "# Instantiate RandomizedSearchCV\n",
    "# n_iter=20 means try 20 random parameter combinations\n",
    "random_search_xgb = RandomizedSearchCV(\n",
    "    estimator=xgb_base,\n",
    "    param_distributions=xgb_param_grid, # Use param_distributions\n",
    "    n_iter=4,          # <<< Number of parameter settings that are sampled\n",
    "    cv=2,               # <<< Reduced CV folds\n",
    "    scoring='accuracy',\n",
    "    n_jobs=-1,\n",
    "    verbose=2,\n",
    "    random_state=42     # <<< For reproducible results\n",
    ")\n",
    "\n",
    "# Fit RandomizedSearchCV to the training data\n",
    "print(\"Fitting RandomizedSearchCV for XGBoost...\")\n",
    "random_search_xgb.fit(X_train, y_train)\n",
    "print(\"XGBoost fitting complete.\")\n",
    "\n",
    "# Get the best model found\n",
    "best_xgb = random_search_xgb.best_estimator_\n",
    "\n",
    "# Print the best parameters found\n",
    "print(\"\\nBest XGBoost Parameters Found (Randomized Search):\")\n",
    "print(random_search_xgb.best_params_)\n",
    "\n",
    "# Evaluate the *best* XGBoost model on the test set\n",
    "print(\"\\n--- Evaluating Best XGBoost Model ---\")\n",
    "y_pred_xgb = best_xgb.predict(X_test)\n",
    "print(\"Accuracy:\", accuracy_score(y_test, y_pred_xgb))\n",
    "print(\"Classification Report:\\n\", classification_report(y_test, y_pred_xgb))\n",
    "print(\"Confusion Matrix:\\n\")\n",
    "cm = confusion_matrix(y_test, y_pred_xgb)\n",
    "\n",
    "# Plot confusion matrix\n",
    "plt.figure(figsize=(6, 5))\n",
    "sns.heatmap(cm, annot=True, fmt='d', cmap='Blues', xticklabels=set(y_test), yticklabels=set(y_test))\n",
    "plt.xlabel('Predicted')\n",
    "plt.ylabel('Actual')\n",
    "plt.title('Confusion Matrix')\n",
    "plt.show()\n",
    "print(\"---------------------------------------------------\")"
   ]
  },
  {
   "cell_type": "code",
   "execution_count": 384,
   "id": "2a53d9fe-b635-49f7-8151-0fe1b6d1e943",
   "metadata": {},
   "outputs": [],
   "source": [
    "y_scores = best_xgb.predict_proba(X_test)[:, 1]"
   ]
  },
  {
   "cell_type": "code",
   "execution_count": 385,
   "id": "544c1752-baad-4252-906d-92a7cb519fa0",
   "metadata": {},
   "outputs": [],
   "source": [
    "from sklearn.metrics import roc_auc_score, roc_curve"
   ]
  },
  {
   "cell_type": "code",
   "execution_count": 386,
   "id": "067b1512-5381-4a56-abd4-5b1eedc66b90",
   "metadata": {},
   "outputs": [
    {
     "name": "stdout",
     "output_type": "stream",
     "text": [
      "ROC AUC Score: 0.82\n"
     ]
    }
   ],
   "source": [
    "auc_score = roc_auc_score(y_test, y_scores)\n",
    "print(f\"ROC AUC Score: {auc_score:.2f}\")"
   ]
  },
  {
   "cell_type": "code",
   "execution_count": 387,
   "id": "535cbda0-5604-44d2-bca7-7d22c54bd504",
   "metadata": {},
   "outputs": [
    {
     "name": "stdout",
     "output_type": "stream",
     "text": [
      "['00' '00 2014' '00 spent' ... 'zuckerberg' 'zuckerberg less'\n",
      " 'zuckerberg person']\n"
     ]
    }
   ],
   "source": [
    "feature_names = vectorizer.get_feature_names_out()\n",
    "print(feature_names)"
   ]
  },
  {
   "cell_type": "code",
   "execution_count": 388,
   "id": "fee901e5-2764-4364-b48d-8f12016f8239",
   "metadata": {},
   "outputs": [],
   "source": [
    "\n",
    "tfidf_feature_names = list(feature_names);\n",
    "other_feature_names = ['barely-true_count', 'false_count', 'half-true_count', 'mostly-true_count', 'pants-fire_count', 'nouns', 'verbs', 'prepositions', 'sentences','word_count', 'unique_word_count', 'avg_word_length', 'char_count', 'polarity', 'subjectivity']\n",
    "all_feature_names = tfidf_feature_names + other_feature_names\n"
   ]
  },
  {
   "cell_type": "code",
   "execution_count": 389,
   "id": "b99c5cbd-4d0b-4c31-bcb0-86a1dfc52b87",
   "metadata": {},
   "outputs": [
    {
     "data": {
      "image/png": "[encoded data removed]",
      "text/plain": [
       "<Figure size 800x950 with 2 Axes>"
      ]
     },
     "metadata": {},
     "output_type": "display_data"
    }
   ],
   "source": [
    "import shap\n",
    "explainer = shap.TreeExplainer(best_xgb)\n",
    "shap_values = explainer.shap_values(X_test)\n",
    "\n",
    "shap.summary_plot(shap_values, X_test, feature_names=all_feature_names)"
   ]
  },
  {
   "cell_type": "code",
   "execution_count": null,
   "id": "2cd95905-aea8-4dc2-af01-3290a7471ffe",
   "metadata": {},
   "outputs": [],
   "source": []
  }
 ],
 "metadata": {
  "kernelspec": {
   "display_name": "Python 3 (ipykernel)",
   "language": "python",
   "name": "python3"
  },
  "language_info": {
   "codemirror_mode": {
    "name": "ipython",
    "version": 3
   },
   "file_extension": ".py",
   "mimetype": "text/x-python",
   "name": "python",
   "nbconvert_exporter": "python",
   "pygments_lexer": "ipython3",
   "version": "3.12.7"
  }
 },
 "nbformat": 4,
 "nbformat_minor": 5
}
